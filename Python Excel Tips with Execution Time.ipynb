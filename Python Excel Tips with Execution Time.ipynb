{
 "cells": [
  {
   "cell_type": "markdown",
   "metadata": {},
   "source": [
    "# TOP 5 Ways to Read Excel Data in Python"
   ]
  },
  {
   "cell_type": "code",
   "execution_count": 1,
   "metadata": {},
   "outputs": [],
   "source": [
    "excel_path = r\"C:\\Users\\Home\\Google Drive\\Youtube\\1. 5 ways to read excel data using python\\Files and COde/Sales.xlsx\"\n"
   ]
  },
  {
   "cell_type": "markdown",
   "metadata": {},
   "source": [
    "### WAY 1: Read excel file with openpyxl"
   ]
  },
  {
   "cell_type": "code",
   "execution_count": 2,
   "metadata": {},
   "outputs": [
    {
     "name": "stdout",
     "output_type": "stream",
     "text": [
      "['Orders', 'People', 'Returns']\n",
      "rows in Orders 9995\n",
      "columns in Orders 21\n",
      "rows in People 5\n",
      "columns in People 2\n",
      "rows in Returns 801\n",
      "columns in Returns 2\n"
     ]
    },
    {
     "name": "stderr",
     "output_type": "stream",
     "text": [
      "C:\\ProgramData\\Anaconda3\\lib\\site-packages\\openpyxl\\worksheet\\header_footer.py:49: UserWarning: Cannot parse header or footer so it will be ignored\n",
      "  warn(\"\"\"Cannot parse header or footer so it will be ignored\"\"\")\n"
     ]
    }
   ],
   "source": [
    "import openpyxl\n",
    "wb = openpyxl.load_workbook(excel_path) \n",
    "\n",
    "#Get sheet names\n",
    "print (wb.sheetnames)\n",
    "\n",
    "#Get rows and column counts from each sheet\n",
    "for i in wb.sheetnames:\n",
    "    print(\"rows in\", i , wb[i].max_row)\n",
    "    print(\"columns in\", i , wb[i].max_column)\n"
   ]
  },
  {
   "cell_type": "markdown",
   "metadata": {},
   "source": [
    "### WAY 2: Read excel file with xlrd"
   ]
  },
  {
   "cell_type": "code",
   "execution_count": 3,
   "metadata": {},
   "outputs": [
    {
     "name": "stdout",
     "output_type": "stream",
     "text": [
      "rows in Orders 9995\n",
      "columns in Orders 21\n",
      "rows in People 5\n",
      "columns in People 2\n",
      "rows in Returns 801\n",
      "columns in Returns 2\n"
     ]
    }
   ],
   "source": [
    "import xlrd \n",
    "wbk = xlrd.open_workbook(excel_path)\n",
    "\n",
    "wbk.sheet_names()\n",
    "\n",
    "for i in wbk.sheet_names():\n",
    "    print(\"rows in\", i , wbk.sheet_by_name(i).nrows)\n",
    "    print(\"columns in\", i , wbk.sheet_by_name(i).ncols)\n"
   ]
  },
  {
   "cell_type": "markdown",
   "metadata": {},
   "source": [
    "### WAY 3: Read excel file with pylightxl"
   ]
  },
  {
   "cell_type": "code",
   "execution_count": 4,
   "metadata": {},
   "outputs": [
    {
     "name": "stdout",
     "output_type": "stream",
     "text": [
      "rows in Orders 9995\n",
      "columns in Orders 21\n",
      "rows in People 5\n",
      "columns in People 2\n",
      "rows in Returns 801\n",
      "columns in Returns 2\n"
     ]
    }
   ],
   "source": [
    "#!pip install pylightxl\n",
    "\n",
    "import pylightxl as xl\n",
    "xlbk = xl.readxl(fn=excel_path)\n",
    "\n",
    "xlbk.ws_names\n",
    "\n",
    "for i in xlbk.ws_names:\n",
    "    print(\"rows in\", i , len(xlbk.ws(ws=i).col(col=1)))\n",
    "    print(\"columns in\", i , len(xlbk.ws(ws=i).row(row=1)))\n"
   ]
  },
  {
   "cell_type": "markdown",
   "metadata": {},
   "source": [
    "### WAY 4: Read whole excel file as an object using pandas"
   ]
  },
  {
   "cell_type": "code",
   "execution_count": 5,
   "metadata": {},
   "outputs": [
    {
     "name": "stdout",
     "output_type": "stream",
     "text": [
      "(9994, 21)\n",
      "(4, 2)\n",
      "(800, 2)\n"
     ]
    }
   ],
   "source": [
    "\n",
    "import pandas as pd\n",
    "xlwb = pd.ExcelFile(excel_path)\n",
    "\n",
    "xlwb.sheet_names  # see all sheet names\n",
    "\n",
    "df1 = pd.read_excel(xlwb,sheet_name='Orders')\n",
    "print(df1.shape)\n",
    "\n",
    "df2 = pd.read_excel(xlwb,sheet_name='People')\n",
    "print(df2.shape)\n",
    "\n",
    "df3 = pd.read_excel(xlwb,sheet_name='Returns')\n",
    "print(df3.shape)\n"
   ]
  },
  {
   "cell_type": "markdown",
   "metadata": {},
   "source": [
    "### WAY 5: Read individual sheets without creating objects in pandas"
   ]
  },
  {
   "cell_type": "code",
   "execution_count": 6,
   "metadata": {},
   "outputs": [
    {
     "name": "stdout",
     "output_type": "stream",
     "text": [
      "(9994, 21)\n",
      "(4, 2)\n",
      "(800, 2)\n"
     ]
    }
   ],
   "source": [
    "import pandas as pd\n",
    "\n",
    "df1 = pd.read_excel(excel_path,sheet_name='Orders')\n",
    "print(df1.shape)\n",
    "\n",
    "df2 = pd.read_excel(excel_path,sheet_name='People')\n",
    "print(df2.shape)\n",
    "\n",
    "df3 = pd.read_excel(excel_path,sheet_name='Returns')\n",
    "print(df3.shape)\n"
   ]
  },
  {
   "cell_type": "code",
   "execution_count": null,
   "metadata": {},
   "outputs": [],
   "source": []
  }
 ],
 "metadata": {
  "kernelspec": {
   "display_name": "Python 3",
   "language": "python",
   "name": "python3"
  },
  "language_info": {
   "codemirror_mode": {
    "name": "ipython",
    "version": 3
   },
   "file_extension": ".py",
   "mimetype": "text/x-python",
   "name": "python",
   "nbconvert_exporter": "python",
   "pygments_lexer": "ipython3",
   "version": "3.7.1"
  }
 },
 "nbformat": 4,
 "nbformat_minor": 4
}
